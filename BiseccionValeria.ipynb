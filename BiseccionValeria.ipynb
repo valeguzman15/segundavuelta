{
  "nbformat": 4,
  "nbformat_minor": 0,
  "metadata": {
    "colab": {
      "name": "Biseccion.ipynb",
      "provenance": [],
      "collapsed_sections": []
    },
    "kernelspec": {
      "name": "python3",
      "display_name": "Python 3"
    }
  },
  "cells": [
    {
      "cell_type": "code",
      "metadata": {
        "id": "kKks6EfeZwCl"
      },
      "source": [
        "import matplotlib.pyplot as plt\r\n",
        "import math"
      ],
      "execution_count": 1,
      "outputs": []
    },
    {
      "cell_type": "code",
      "metadata": {
        "id": "ofsoCBYojWXp"
      },
      "source": [
        "def f(x):\r\n",
        "  return pow(math.e,x) -(5*x**2)"
      ],
      "execution_count": 2,
      "outputs": []
    },
    {
      "cell_type": "code",
      "metadata": {
        "id": "ABgwDHkIjY1y"
      },
      "source": [
        "def Biseccion(xl,xu,criterio_paro = 0.0001):\r\n",
        "\r\n",
        "  f_xl = f(xl)\r\n",
        "  print(f_xl)\r\n",
        "  f_xu = f(xu)\r\n",
        "  print(f_xu)\r\n",
        "  \r\n",
        "  xr_ant = xu\r\n",
        "  error = xu\r\n",
        "  \r\n",
        "  raiz = None\r\n",
        "\r\n",
        "  if f_xl*f_xu < 0:\r\n",
        "     while(error > criterio_paro):\r\n",
        "      xr = (xl+xu)/2\r\n",
        "      xrVec.append(xr)\r\n",
        "      f_xr = f(xr)\r\n",
        "\r\n",
        "      if f_xl*f_xr < 0:\r\n",
        "        xu = xr\r\n",
        "        f_xu = f_xr\r\n",
        "\r\n",
        "      if f_xu*f_xr < 0:\r\n",
        "        xl = xr\r\n",
        "        f_xl = f_xr\r\n",
        "      error = abs((xr-xr_ant)/xr)\r\n",
        "      errorVec.append(error)\r\n",
        "      raiz = xr\r\n",
        "      xr_ant = xr\r\n",
        "  else:\r\n",
        "    print(\"La aiz no esta en el intervalo\")\r\n",
        "  return raiz"
      ],
      "execution_count": 4,
      "outputs": []
    },
    {
      "cell_type": "code",
      "metadata": {
        "colab": {
          "base_uri": "https://localhost:8080/"
        },
        "id": "MLWr5hQxoGbj",
        "outputId": "1f864fcf-af58-4a8f-f87c-6b1cccea5f72"
      },
      "source": [
        "xl = 4\r\n",
        "xu = 6\r\n",
        "xrVec=[]\r\n",
        "errorVec=[]\r\n",
        "raiz=Biseccion(4,6)\r\n",
        "print(raiz)"
      ],
      "execution_count": 5,
      "outputs": [
        {
          "output_type": "stream",
          "text": [
            "-25.40184996685577\n",
            "223.428793492735\n",
            "4.707763671875\n"
          ],
          "name": "stdout"
        }
      ]
    },
    {
      "cell_type": "code",
      "metadata": {
        "colab": {
          "base_uri": "https://localhost:8080/"
        },
        "id": "nzuddZ7soW13",
        "outputId": "feedfcb9-0959-4ea0-8f74-3883738505aa"
      },
      "source": [
        "print(xrVec)"
      ],
      "execution_count": 6,
      "outputs": [
        {
          "output_type": "stream",
          "text": [
            "[5.0, 4.5, 4.75, 4.625, 4.6875, 4.71875, 4.703125, 4.7109375, 4.70703125, 4.708984375, 4.7080078125, 4.70751953125, 4.707763671875]\n"
          ],
          "name": "stdout"
        }
      ]
    },
    {
      "cell_type": "code",
      "metadata": {
        "colab": {
          "base_uri": "https://localhost:8080/",
          "height": 265
        },
        "id": "cBOII77Zo6nI",
        "outputId": "17612160-12a5-4cc6-81ee-e7b10ddbc17e"
      },
      "source": [
        "plt.plot(xrVec)\r\n",
        "plt.plot(errorVec)\r\n",
        "plt.show()"
      ],
      "execution_count": 7,
      "outputs": [
        {
          "output_type": "display_data",
          "data": {
            "image/png": "[encoded data removed]",
            "text/plain": [
              "<Figure size 432x288 with 1 Axes>"
            ]
          },
          "metadata": {
            "tags": [],
            "needs_background": "light"
          }
        }
      ]
    }
  ]
}