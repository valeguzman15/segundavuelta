{
  "nbformat": 4,
  "nbformat_minor": 0,
  "metadata": {
    "kernelspec": {
      "name": "python3",
      "display_name": "Python 3",
      "language": "python"
    },
    "language_info": {
      "name": "python",
      "version": "3.6.11",
      "mimetype": "text/x-python",
      "codemirror_mode": {
        "name": "ipython",
        "version": 3
      },
      "pygments_lexer": "ipython3",
      "nbconvert_exporter": "python",
      "file_extension": ".py"
    },
    "colab": {
      "name": "Falsa posición (1).ipynb",
      "provenance": []
    }
  },
  "cells": [
    {
      "cell_type": "code",
      "metadata": {
        "trusted": true,
        "id": "Ha-VbqIr5OtT"
      },
      "source": [
        "import matplotlib.pyplot as plt\r\n",
        "import math"
      ],
      "execution_count": 1,
      "outputs": []
    },
    {
      "cell_type": "code",
      "metadata": {
        "trusted": true,
        "id": "SIrETdYn5OtU"
      },
      "source": [
        "def f(x):\n",
        "  return  -(25) +(82*x)-(90*x**2) +(44*x**5) -(8*x**4)"
      ],
      "execution_count": 4,
      "outputs": []
    },
    {
      "cell_type": "code",
      "metadata": {
        "trusted": true,
        "id": "NYlBdvVh5OtV"
      },
      "source": [
        "def falsa(xl, xu, criterio_paro = 0.0001):\n",
        "    xl = xl\n",
        "    xu = xu\n",
        "   \n",
        "    f_xu = f(xu)\n",
        "    print(f_xu)\n",
        "    f_xl = f(xl)\n",
        "    print(f_xl)\n",
        "    error = xu\n",
        "    xr_ant = xu\n",
        "    raiz = None\n",
        "    if f_xl * f_xu < 0:\n",
        "        while(error > criterio_paro):\n",
        "            xr = (xu - ((f_xu * (xl - xu) / (f_xl - f_xu))))\n",
        "            xrVec.append(xr)\n",
        "            f_xr = f(xr)\n",
        "            if f_xl * f_xr < 0:\n",
        "                xu = xr\n",
        "                f_xu = f_xr\n",
        "            if f_xu * f_xr < 0:\n",
        "                xl = xr\n",
        "                f_xl = f_xr\n",
        "            error = abs((xr-xr_ant)/xr)\n",
        "            errorVec.append(error)\n",
        "            raiz = xr\n",
        "            xr_ant = xr\n",
        "    else:\n",
        "        print(\"La raíz no está en el intervalo\")\n",
        "    return raiz\n"
      ],
      "execution_count": 5,
      "outputs": []
    },
    {
      "cell_type": "code",
      "metadata": {
        "trusted": true,
        "colab": {
          "base_uri": "https://localhost:8080/"
        },
        "id": "RAYWFOCj5OtW",
        "outputId": "17a3dcd6-cacc-48d7-cbc2-e395077e4f2e"
      },
      "source": [
        "xl = 0\n",
        "xu = 2\n",
        "xrVec=[]\n",
        "errorVec=[]\n",
        "raiz = falsa(0,2)\n",
        "print(raiz)"
      ],
      "execution_count": 9,
      "outputs": [
        {
          "output_type": "stream",
          "text": [
            "1059\n",
            "-25\n",
            "0.9608115120196719\n"
          ],
          "name": "stdout"
        }
      ]
    },
    {
      "cell_type": "code",
      "metadata": {
        "trusted": true,
        "colab": {
          "base_uri": "https://localhost:8080/"
        },
        "id": "FKK4lJb15OtY",
        "outputId": "be902d94-1bce-43a9-af70-ac349da716e9"
      },
      "source": [
        "print(xrVec)"
      ],
      "execution_count": 10,
      "outputs": [
        {
          "output_type": "stream",
          "text": [
            "[0.046125461254612476, 0.08484313230222051, 0.11805866188832104, 0.14705857915135412, 0.17274756078887044, 0.195782949194391, 0.21665545966714883, 0.23573985301385125, 0.253327965793805, 0.26965093133561124, 0.2848945385834958, 0.2992100998492824, 0.3127223004934687, 0.3255349727632153, 0.33773541215424063, 0.34939765146061763, 0.36058497697563463, 0.37135188535241426, 0.3817456219637969, 0.39180740220158805, 0.40157338978970225, 0.4110754868891733, 0.42034197697602504, 0.4293980514811089, 0.43826624385860335, 0.446966789324442, 0.4555179244448144, 0.4639361376859361, 0.47223637969652366, 0.4804322402958363, 0.488536097747025, 0.49655924480888447, 0.504511995206101, 0.5124037734847198, 0.5202431906854057, 0.528038107841724, 0.5357956889710349, 0.5435224449540801, 0.5512242694823899, 0.5589064680798375, 0.5665737810678433, 0.5742304012365496, 0.5818799869016587, 0.5895256709645544, 0.5971700665484603, 0.6048152697529963, 0.6124628600511872, 0.6201138988446131, 0.6277689266919833, 0.6354279597320547, 0.6430904858315241, 0.6507554610003496, 0.6584213066288023, 0.6660859081102422, 0.6737466154189098, 0.6814002462106021, 0.6890430920036523, 0.69667092797595, 0.7042790268787547, 0.7118621775180558, 0.7194147081878994, 0.7269305153567465, 0.7344030978075078, 0.7418255963153138, 0.7491908388160413, 0.7564913908759479, 0.7637196111221451, 0.7708677111397781, 0.7779278191900025, 0.784892046959184, 0.7917525584203313, 0.7985016397787734, 0.8051317693911426, 0.8116356864946916, 0.8180064575664765, 0.8242375391511838, 0.8303228360528323, 0.8362567538779402, 0.842034245042941, 0.8476508475119389, 0.8531027157062385, 0.8583866432173914, 0.863500077153047, 0.8684411241419139, 0.8732085482130743, 0.8778017609389959, 0.8822208043851294, 0.8864663275375484, 0.8905395569807364, 0.8944422626688855, 0.8981767196759094, 0.9017456668230353, 0.9051522630706608, 0.9084000425262995, 0.9114928688666115, 0.9144348899027566, 0.9172304929387218, 0.9198842614857983, 0.9224009338066828, 0.9247853636729664, 0.9270424836327826, 0.9291772710032946, 0.9311947167271613, 0.9330997971642703, 0.934897448830541, 0.9365925460447433, 0.9381898814019891, 0.9396941489585093, 0.9411099299859624, 0.9424416811342071, 0.9436937248284005, 0.9448702417186929, 0.9459752649978512, 0.9470126764030924, 0.9479862037225051, 0.9488994196330138, 0.949755741705286, 0.9505584334207808, 0.9513106060568244, 0.9520152213067785, 0.9526750945137539, 0.9532928984076168, 0.9538711672460711, 0.9544123012712058, 0.9549185714029542, 0.9553921241003707, 0.9558349863304025, 0.9562490705919331, 0.9566361799502767, 0.9569980130440108, 0.957336169032097, 0.9576521524546548, 0.9579473779855867, 0.9582231750595078, 0.9584807923592018, 0.9587214021530897, 0.9589461044750529, 0.9591559311414046, 0.9593518496019076, 0.9595347666235243, 0.9597055318070946, 0.9598649409383866, 0.9600137391760162, 0.9601526240795688, 0.9602822484819364, 0.9604032232104158, 0.9605161196615202, 0.9606214722347519, 0.9607197806307901, 0.9608115120196719]\n"
          ],
          "name": "stdout"
        }
      ]
    },
    {
      "cell_type": "code",
      "metadata": {
        "trusted": true,
        "colab": {
          "base_uri": "https://localhost:8080/",
          "height": 265
        },
        "id": "iEKCGr835OtZ",
        "outputId": "dd357126-2ce9-4500-e7eb-257c88dd0223"
      },
      "source": [
        "plt.plot(xrVec)\n",
        "plt.plot(errorVec)\n",
        "plt.show()"
      ],
      "execution_count": 11,
      "outputs": [
        {
          "output_type": "display_data",
          "data": {
            "image/png": "[encoded data removed]",
            "text/plain": [
              "<Figure size 432x288 with 1 Axes>"
            ]
          },
          "metadata": {
            "tags": [],
            "needs_background": "light"
          }
        }
      ]
    },
    {
      "cell_type": "code",
      "metadata": {
        "trusted": true,
        "id": "a8sAA1oV5Ota"
      },
      "source": [
        "plt.plot(errorVec)\r\n",
        "plt.show()"
      ],
      "execution_count": null,
      "outputs": []
    }
  ]
}